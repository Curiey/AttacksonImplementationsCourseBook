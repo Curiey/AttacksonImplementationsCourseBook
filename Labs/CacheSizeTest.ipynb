{
  "nbformat": 4,
  "nbformat_minor": 0,
  "metadata": {
    "colab": {
      "name": "CacheSizeTest.ipynb",
      "provenance": [],
      "collapsed_sections": [],
      "include_colab_link": true
    },
    "kernelspec": {
      "name": "python3",
      "display_name": "Python 3"
    },
    "language_info": {
      "name": "python"
    }
  },
  "cells": [
    {
      "cell_type": "markdown",
      "metadata": {
        "id": "view-in-github",
        "colab_type": "text"
      },
      "source": [
        "<a href=\"https://colab.research.google.com/github/kobi3028/AttacksonImplementationsCourseBook/blob/master/Labs/CacheSizeTest.ipynb\" target=\"_parent\"><img src=\"https://colab.research.google.com/assets/colab-badge.svg\" alt=\"Open In Colab\"/></a>"
      ]
    },
    {
      "cell_type": "markdown",
      "metadata": {
        "id": "ppggj5pgO39v"
      },
      "source": [
        "## Cache size test\n",
        "\n",
        "This cache size test described by [Henry Wong on his blog](https://blog.stuffedcow.net/2013/01/ivb-cache-replacement/).\n",
        "\n",
        "The access pattern used in the test is a random cyclic permutation, where each cache line (64 bytes) in an array is accessed exactly once in a random order before the sequence repeats. Each access is data-dependent so this measures the full access latency (not bandwidth) of the cache.\n",
        "\n",
        "The ***cache size test*** can run on google colab or on private computer, in case the test will run on google colab the test will measure google server cache size \n"
      ]
    },
    {
      "cell_type": "code",
      "metadata": {
        "id": "UtJkliadhdWo"
      },
      "source": [
        "# Open the file in google colab https://colab.research.google.com/github/Yossioren/AttacksonImplementationsCourseBook/blob/master/Labs/CacheSizeTest.ipynb\n",
        "import numpy as np\n",
        "from scipy import stats\n",
        "\n",
        "!pip install -q bokeh\n",
        "from bokeh.plotting import figure, show\n",
        "from bokeh.models import Range1d\n",
        "from bokeh.io import output_notebook\n",
        "from bokeh.models.tickers import FixedTicker\n",
        "from bokeh.models.formatters import PrintfTickFormatter\n",
        "# Call once to configure Bokeh to display plots inline in the notebook.\n",
        "output_notebook()\n",
        "\n",
        "import mmap\n",
        "import time\n",
        "import gc\n",
        "\n",
        "import ctypes\n",
        "!pip install -q keystone-engine\n",
        "from keystone import *\n",
        "\n",
        "ks = Ks(KS_ARCH_X86, KS_MODE_64)\n",
        "\n",
        "STACK_SPACE = 0x1000"
      ],
      "execution_count": null,
      "outputs": []
    },
    {
      "cell_type": "markdown",
      "metadata": {
        "id": "xQkl6PsiN6IB"
      },
      "source": [
        "##Script parameters\n",
        "NUM_READ - number of random array accesses  \n",
        "\n",
        "NUM_TEST - test every array size NUM_TEST times \n",
        "\n",
        "ARRAY_SIZE_POWER - size of the array for random access 2^(ARRAY_SIZE_POWER) KBytes\n",
        "\n",
        "ASM_BLOCK_SIZE - data-dependent access operation block size"
      ]
    },
    {
      "cell_type": "code",
      "metadata": {
        "id": "LMQvCfz8OT8h"
      },
      "source": [
        "NUM_READ = (1<<20)    # number of random array accesses  \n",
        "NUM_TEST = 0x10       # test every array size NUM_TEST times\n",
        "ARRAY_SIZE_POWER = 23 # size of the array for random access (2^(10+ARRAY_SIZE_POWER))\n",
        "ASM_BLOCK_SIZE = 128  # data-dependent access operation "
      ],
      "execution_count": 2,
      "outputs": []
    },
    {
      "cell_type": "code",
      "metadata": {
        "id": "Jj1_oIl3diOJ"
      },
      "source": [
        "# rdtsc func \n",
        "rdtsc_asm = '''\n",
        "rdtsc\n",
        "shl rdx, 32\n",
        "or  rax, rdx\n",
        "ret\n",
        "'''\n",
        "byte_code, count = ks.asm(rdtsc_asm)\n",
        "assert count == 5\n",
        "\n",
        "#allocate memory\n",
        "rdtsc_buf = mmap.mmap(-1, mmap.PAGESIZE, prot=mmap.PROT_READ | mmap.PROT_WRITE | mmap.PROT_EXEC)\n",
        "rdtsc_buf.write(bytes(byte_code))\n",
        "\n",
        "#convert to function\n",
        "fpointer = ctypes.c_void_p.from_buffer(rdtsc_buf)\n",
        "func_type = ctypes.CFUNCTYPE(ctypes.c_uint64)\n",
        "rdtsc = ctypes.cast(ctypes.addressof(fpointer), func_type)"
      ],
      "execution_count": 3,
      "outputs": []
    },
    {
      "cell_type": "code",
      "metadata": {
        "id": "BwfnOVI1hKrR"
      },
      "source": [
        "#alloc read write execute memory\n",
        "fbuf_size = mmap.PAGESIZE*0x100\n",
        "fbuf = mmap.mmap(-1, fbuf_size, prot=mmap.PROT_READ | mmap.PROT_WRITE | mmap.PROT_EXEC)\n",
        "\n",
        "fpointer = ctypes.c_void_p.from_buffer(fbuf)\n",
        "fpointer_address = ctypes.addressof(fpointer)\n",
        "print('machine code buf address:', hex(fpointer_address))"
      ],
      "execution_count": null,
      "outputs": []
    },
    {
      "cell_type": "code",
      "metadata": {
        "id": "FbhzANk-h1UO"
      },
      "source": [
        "def make_routine(dpointer_address, asm_its):\n",
        "\n",
        "  p1 = dpointer_address \n",
        "\n",
        "  #assemble intel assembly to intel x86_64 CPU byte code\n",
        "  code = b''\n",
        "  code += bytes(ks.asm( 'xchg   ax,ax')[0])*8\n",
        "  code += bytes(ks.asm( 'push   rbx')[0])\n",
        "  code += bytes(ks.asm( 'push   rbp')[0])\n",
        "  code += bytes(ks.asm( 'push   rsi')[0])\n",
        "  code += bytes(ks.asm( 'push   rdi')[0])\n",
        "  code += bytes(ks.asm( 'push   r8')[0])\n",
        "  code += bytes(ks.asm( 'push   r9')[0])\n",
        "  code += bytes(ks.asm(f'sub    rsp,{STACK_SPACE}')[0])\n",
        "  code += bytes(ks.asm( 'xor    r8d, r8d')[0])\n",
        "  code += bytes(ks.asm( 'lea    r9,[rsp]')[0])\n",
        "  code += bytes(ks.asm(f'movabs rcx,{p1}')[0])\n",
        "  code += bytes(ks.asm(f'movabs rax,{asm_its}')[0]) #counter\n",
        "\n",
        "  code += bytes(ks.asm( 'sub    rbx,0x0')[0])\n",
        "  code += bytes(ks.asm( 'sub    rbp,0x0')[0])\n",
        "  code += bytes(ks.asm( 'sub    rsi,0x0')[0])\n",
        "  code += bytes(ks.asm( 'sub    rdi,0x0')[0])\n",
        "  code += bytes(ks.asm( 'sub    r8, 0x0')[0])\n",
        "  code += bytes(ks.asm( 'sub    r9, 0x0')[0])\n",
        "  code += bytes(ks.asm( 'sub    r10,0x0')[0])\n",
        "  code += bytes(ks.asm( 'sub    r11,0x0')[0])\n",
        "  code += bytes(ks.asm( 'sub    r12,0x0')[0])\n",
        "  code += bytes(ks.asm( 'sub    r13,0x0')[0])\n",
        "  code += bytes(ks.asm( 'sub    r14,0x0')[0])\n",
        "  code += bytes(ks.asm( 'sub    r15,0x0')[0])\n",
        "  #padd\n",
        "  code += bytes(ks.asm( 'nop')[0])*(len(code)%0x10)\n",
        "\n",
        "  loop_start = len(code)\n",
        "  code += bytes(ks.asm( 'mov    rcx,QWORD PTR [rcx]')[0])*ASM_BLOCK_SIZE\n",
        "  \n",
        "  code += bytes(ks.asm( 'sub   eax, 0x1')[0]) #dec counter\n",
        "  code += bytes(ks.asm(f'jne   {loop_start - len(code) - 4}')[0]) #loop if eax != 0 \n",
        "\n",
        "\n",
        "  code += bytes(ks.asm( 'xchg  ax, ax')[0])*8\n",
        "\n",
        "  code += bytes(ks.asm(f'add   rsp,{STACK_SPACE}')[0])\n",
        "\n",
        "  code += bytes(ks.asm( 'pop   r9')[0])\n",
        "  code += bytes(ks.asm( 'pop   r8')[0])\n",
        "  code += bytes(ks.asm( 'pop   rdi')[0])\n",
        "  code += bytes(ks.asm( 'pop   rsi')[0])\n",
        "  code += bytes(ks.asm( 'pop   rbp')[0])\n",
        "  code += bytes(ks.asm( 'pop   rbx')[0])\n",
        "\n",
        "  code += bytes(ks.asm( 'emms')[0])\n",
        "  code += bytes(ks.asm( 'ret')[0])\n",
        "  code += bytes(ks.asm( 'nop')[0])*(mmap.PAGESIZE - (len(code) % mmap.PAGESIZE)) #pad byte code with nops\n",
        "  return code"
      ],
      "execution_count": 5,
      "outputs": []
    },
    {
      "cell_type": "code",
      "metadata": {
        "id": "9rXJbdcdYU1j"
      },
      "source": [
        "#init data buf\n",
        "def init_dbuf(dbuf_size):\n",
        "  size = dbuf_size//8\n",
        "  dbuf = np.arange(start=0, stop=size, dtype=np.uint64)\n",
        "  np.random.shuffle(dbuf)\n",
        "\n",
        "  dpointer = ctypes.c_void_p.from_buffer(dbuf)\n",
        "  dpointer_address = ctypes.addressof(dpointer)\n",
        "\n",
        "  f = lambda x :  dpointer_address + (x * 8)\n",
        "  copy = f(dbuf)\n",
        "  dbuf[:] = copy\n",
        "  \n",
        "  del copy\n",
        "  return dpointer_address, dbuf"
      ],
      "execution_count": 6,
      "outputs": []
    },
    {
      "cell_type": "code",
      "metadata": {
        "id": "jWpZSUcDiHCE"
      },
      "source": [
        "#LENGTH = 256*1024*1024 #256MB\n",
        "MAP_HUGETLB = 0x40000\n",
        "MAP_POPULATE = 0x08000\n",
        "\n",
        "res_arr = {}\n",
        "\n",
        "for i in range(ARRAY_SIZE_POWER):\n",
        "  length = (1<<(i+10))\n",
        "  res_arr[length] = []\n",
        "  \n",
        "  dpointer_address, dbuf = init_dbuf(length)  \n",
        "\n",
        "  routine_code = make_routine(dpointer_address, NUM_READ//ASM_BLOCK_SIZE)\n",
        "  fbuf.write(routine_code)\n",
        "\n",
        "  #convert byte code to python function \n",
        "  routine_pointer = ctypes.c_void_p.from_buffer(fbuf)\n",
        "  routine_type = ctypes.CFUNCTYPE(ctypes.c_int)\n",
        "  routine = ctypes.cast(ctypes.addressof(routine_pointer), routine_type)\n",
        "    \n",
        "  time.sleep(1)\n",
        "  for i in range(NUM_TEST):\n",
        "    start = rdtsc()\n",
        "    routine()\n",
        "    end = rdtsc() - start  \n",
        "    \n",
        "    #Save the average time\n",
        "    res_arr[length].append(float(end)/NUM_READ)\n",
        "  \n",
        "  #reset write pointer\n",
        "  fbuf.seek(0)\n",
        "  del dbuf\n",
        "\n",
        "#Print the results\n",
        "for key in res_arr:\n",
        "  print('{0:>#12x}'.format(key), res_arr[key])"
      ],
      "execution_count": null,
      "outputs": []
    },
    {
      "cell_type": "code",
      "metadata": {
        "id": "J9E1uIOwCNwY"
      },
      "source": [
        "#Plot the results\n",
        "p = figure(title='Memory Random Access Time Measurement', \n",
        "           x_axis_label='Array Size (KBytes)', \n",
        "           #y_axis_label='Random Access time [NS]', \n",
        "           y_axis_label='CPU ticks', \n",
        "           x_axis_type=\"log\")\n",
        "\n",
        "keys = [(key>>10) for key in res_arr.keys()]\n",
        "p.xaxis.ticker = FixedTicker(ticks=keys)\n",
        "p.xaxis.major_label_orientation = \"vertical\"\n",
        "p.xaxis.formatter=PrintfTickFormatter(format=\"0x%X\")\n",
        "avg = []\n",
        "for key in res_arr:\n",
        "  #Plot the results\n",
        "  p.scatter([key>>10]*len(res_arr[key]), res_arr[key])\n",
        "  \n",
        "  #Remove the outlier\n",
        "  data = np.asarray(res_arr[key])\n",
        "  data = data[abs(data - np.mean(data)) < 2 * np.std(data)]\n",
        "  avg.append(np.mean(data))\n",
        "\n",
        "#Plot the avg line\n",
        "p.line(keys, avg, line_width=2, line_color='orange')\n",
        "show(p)\n"
      ],
      "execution_count": null,
      "outputs": []
    }
  ]
}